{
 "cells": [
  {
   "cell_type": "code",
   "execution_count": 1,
   "metadata": {},
   "outputs": [],
   "source": [
    "import tensorflow as tf\n",
    "from tensorflow import keras\n",
    "from keras import layers\n",
    "from keras.models import Sequential\n",
    "from keras.layers import Flatten\n",
    "from keras.layers import Dense\n",
    "from keras.layers import Activation\n",
    "from sklearn.preprocessing import LabelBinarizer\n",
    "from sklearn.model_selection import train_test_split\n",
    "from sklearn.metrics import roc_auc_score, accuracy_score\n",
    "import matplotlib.pyplot as plt\n",
    "import pandas as pd\n",
    "import numpy as np"
   ]
  },
  {
   "cell_type": "markdown",
   "metadata": {},
   "source": [
    "## Cargando Data\n"
   ]
  },
  {
   "cell_type": "code",
   "execution_count": 2,
   "metadata": {},
   "outputs": [
    {
     "data": {
      "text/html": [
       "<div>\n",
       "<style scoped>\n",
       "    .dataframe tbody tr th:only-of-type {\n",
       "        vertical-align: middle;\n",
       "    }\n",
       "\n",
       "    .dataframe tbody tr th {\n",
       "        vertical-align: top;\n",
       "    }\n",
       "\n",
       "    .dataframe thead th {\n",
       "        text-align: right;\n",
       "    }\n",
       "</style>\n",
       "<table border=\"1\" class=\"dataframe\">\n",
       "  <thead>\n",
       "    <tr style=\"text-align: right;\">\n",
       "      <th></th>\n",
       "      <th>id</th>\n",
       "      <th>Airline</th>\n",
       "      <th>Flight</th>\n",
       "      <th>AirportFrom</th>\n",
       "      <th>AirportTo</th>\n",
       "      <th>DayOfWeek</th>\n",
       "      <th>Time</th>\n",
       "      <th>Length</th>\n",
       "      <th>Delay</th>\n",
       "      <th>delay2</th>\n",
       "    </tr>\n",
       "  </thead>\n",
       "  <tbody>\n",
       "    <tr>\n",
       "      <th>0</th>\n",
       "      <td>1</td>\n",
       "      <td>CO</td>\n",
       "      <td>269</td>\n",
       "      <td>SFO</td>\n",
       "      <td>IAH</td>\n",
       "      <td>3</td>\n",
       "      <td>15</td>\n",
       "      <td>205</td>\n",
       "      <td>1</td>\n",
       "      <td>Delayed</td>\n",
       "    </tr>\n",
       "    <tr>\n",
       "      <th>1</th>\n",
       "      <td>2</td>\n",
       "      <td>US</td>\n",
       "      <td>1558</td>\n",
       "      <td>PHX</td>\n",
       "      <td>CLT</td>\n",
       "      <td>3</td>\n",
       "      <td>15</td>\n",
       "      <td>222</td>\n",
       "      <td>1</td>\n",
       "      <td>Delayed</td>\n",
       "    </tr>\n",
       "    <tr>\n",
       "      <th>2</th>\n",
       "      <td>3</td>\n",
       "      <td>AA</td>\n",
       "      <td>2400</td>\n",
       "      <td>LAX</td>\n",
       "      <td>DFW</td>\n",
       "      <td>3</td>\n",
       "      <td>20</td>\n",
       "      <td>165</td>\n",
       "      <td>1</td>\n",
       "      <td>Delayed</td>\n",
       "    </tr>\n",
       "    <tr>\n",
       "      <th>3</th>\n",
       "      <td>4</td>\n",
       "      <td>AA</td>\n",
       "      <td>2466</td>\n",
       "      <td>SFO</td>\n",
       "      <td>DFW</td>\n",
       "      <td>3</td>\n",
       "      <td>20</td>\n",
       "      <td>195</td>\n",
       "      <td>1</td>\n",
       "      <td>Delayed</td>\n",
       "    </tr>\n",
       "    <tr>\n",
       "      <th>4</th>\n",
       "      <td>5</td>\n",
       "      <td>AS</td>\n",
       "      <td>108</td>\n",
       "      <td>ANC</td>\n",
       "      <td>SEA</td>\n",
       "      <td>3</td>\n",
       "      <td>30</td>\n",
       "      <td>202</td>\n",
       "      <td>0</td>\n",
       "      <td>On Time</td>\n",
       "    </tr>\n",
       "    <tr>\n",
       "      <th>...</th>\n",
       "      <td>...</td>\n",
       "      <td>...</td>\n",
       "      <td>...</td>\n",
       "      <td>...</td>\n",
       "      <td>...</td>\n",
       "      <td>...</td>\n",
       "      <td>...</td>\n",
       "      <td>...</td>\n",
       "      <td>...</td>\n",
       "      <td>...</td>\n",
       "    </tr>\n",
       "    <tr>\n",
       "      <th>539378</th>\n",
       "      <td>539379</td>\n",
       "      <td>CO</td>\n",
       "      <td>178</td>\n",
       "      <td>OGG</td>\n",
       "      <td>SNA</td>\n",
       "      <td>5</td>\n",
       "      <td>1439</td>\n",
       "      <td>326</td>\n",
       "      <td>0</td>\n",
       "      <td>On Time</td>\n",
       "    </tr>\n",
       "    <tr>\n",
       "      <th>539379</th>\n",
       "      <td>539380</td>\n",
       "      <td>FL</td>\n",
       "      <td>398</td>\n",
       "      <td>SEA</td>\n",
       "      <td>ATL</td>\n",
       "      <td>5</td>\n",
       "      <td>1439</td>\n",
       "      <td>305</td>\n",
       "      <td>0</td>\n",
       "      <td>On Time</td>\n",
       "    </tr>\n",
       "    <tr>\n",
       "      <th>539380</th>\n",
       "      <td>539381</td>\n",
       "      <td>FL</td>\n",
       "      <td>609</td>\n",
       "      <td>SFO</td>\n",
       "      <td>MKE</td>\n",
       "      <td>5</td>\n",
       "      <td>1439</td>\n",
       "      <td>255</td>\n",
       "      <td>0</td>\n",
       "      <td>On Time</td>\n",
       "    </tr>\n",
       "    <tr>\n",
       "      <th>539381</th>\n",
       "      <td>539382</td>\n",
       "      <td>UA</td>\n",
       "      <td>78</td>\n",
       "      <td>HNL</td>\n",
       "      <td>SFO</td>\n",
       "      <td>5</td>\n",
       "      <td>1439</td>\n",
       "      <td>313</td>\n",
       "      <td>1</td>\n",
       "      <td>Delayed</td>\n",
       "    </tr>\n",
       "    <tr>\n",
       "      <th>539382</th>\n",
       "      <td>539383</td>\n",
       "      <td>US</td>\n",
       "      <td>1442</td>\n",
       "      <td>LAX</td>\n",
       "      <td>PHL</td>\n",
       "      <td>5</td>\n",
       "      <td>1439</td>\n",
       "      <td>301</td>\n",
       "      <td>1</td>\n",
       "      <td>Delayed</td>\n",
       "    </tr>\n",
       "  </tbody>\n",
       "</table>\n",
       "<p>539383 rows × 10 columns</p>\n",
       "</div>"
      ],
      "text/plain": [
       "            id Airline  Flight AirportFrom AirportTo  DayOfWeek  Time  Length  \\\n",
       "0            1      CO     269         SFO       IAH          3    15     205   \n",
       "1            2      US    1558         PHX       CLT          3    15     222   \n",
       "2            3      AA    2400         LAX       DFW          3    20     165   \n",
       "3            4      AA    2466         SFO       DFW          3    20     195   \n",
       "4            5      AS     108         ANC       SEA          3    30     202   \n",
       "...        ...     ...     ...         ...       ...        ...   ...     ...   \n",
       "539378  539379      CO     178         OGG       SNA          5  1439     326   \n",
       "539379  539380      FL     398         SEA       ATL          5  1439     305   \n",
       "539380  539381      FL     609         SFO       MKE          5  1439     255   \n",
       "539381  539382      UA      78         HNL       SFO          5  1439     313   \n",
       "539382  539383      US    1442         LAX       PHL          5  1439     301   \n",
       "\n",
       "        Delay   delay2  \n",
       "0           1  Delayed  \n",
       "1           1  Delayed  \n",
       "2           1  Delayed  \n",
       "3           1  Delayed  \n",
       "4           0  On Time  \n",
       "...       ...      ...  \n",
       "539378      0  On Time  \n",
       "539379      0  On Time  \n",
       "539380      0  On Time  \n",
       "539381      1  Delayed  \n",
       "539382      1  Delayed  \n",
       "\n",
       "[539383 rows x 10 columns]"
      ]
     },
     "execution_count": 2,
     "metadata": {},
     "output_type": "execute_result"
    }
   ],
   "source": [
    "data = pd.read_csv('Airlines.csv')\n",
    "\n",
    "# Creamos variable delay2 para mapear como variable categórica a Delay\n",
    "\n",
    "data['delay2'] = data['Delay'].map({0: 'On Time', 1: 'Delayed'})\n",
    "data"
   ]
  },
  {
   "cell_type": "markdown",
   "metadata": {},
   "source": [
    "## Análisis Exploratorio"
   ]
  },
  {
   "cell_type": "code",
   "execution_count": 3,
   "metadata": {},
   "outputs": [
    {
     "name": "stdout",
     "output_type": "stream",
     "text": [
      "delay2\n",
      "Delayed    240264\n",
      "On Time    299119\n",
      "Name: delay2, dtype: int64\n"
     ]
    },
    {
     "data": {
      "text/plain": [
       "<BarContainer object of 2 artists>"
      ]
     },
     "execution_count": 3,
     "metadata": {},
     "output_type": "execute_result"
    },
    {
     "data": {
      "image/png": "[encoded data removed]",
      "text/plain": [
       "<Figure size 640x480 with 1 Axes>"
      ]
     },
     "metadata": {},
     "output_type": "display_data"
    }
   ],
   "source": [
    "### Análisis Exploratorio\n",
    "\n",
    "delays_grouped = data['delay2'].groupby(data['delay2']).count()\n",
    "print(delays_grouped)\n",
    "\n",
    "plt.title(\"Amount of delays\")\n",
    "plt.bar(delays_grouped.keys(), delays_grouped)\n"
   ]
  },
  {
   "cell_type": "code",
   "execution_count": 4,
   "metadata": {},
   "outputs": [
    {
     "data": {
      "text/html": [
       "<div>\n",
       "<style scoped>\n",
       "    .dataframe tbody tr th:only-of-type {\n",
       "        vertical-align: middle;\n",
       "    }\n",
       "\n",
       "    .dataframe tbody tr th {\n",
       "        vertical-align: top;\n",
       "    }\n",
       "\n",
       "    .dataframe thead th {\n",
       "        text-align: right;\n",
       "    }\n",
       "</style>\n",
       "<table border=\"1\" class=\"dataframe\">\n",
       "  <thead>\n",
       "    <tr style=\"text-align: right;\">\n",
       "      <th></th>\n",
       "      <th>id</th>\n",
       "      <th>Airline</th>\n",
       "      <th>Flight</th>\n",
       "      <th>AirportFrom</th>\n",
       "      <th>AirportTo</th>\n",
       "      <th>DayOfWeek</th>\n",
       "      <th>Time</th>\n",
       "      <th>Length</th>\n",
       "      <th>Delay</th>\n",
       "      <th>delay2_Delayed</th>\n",
       "      <th>delay2_On Time</th>\n",
       "    </tr>\n",
       "  </thead>\n",
       "  <tbody>\n",
       "    <tr>\n",
       "      <th>0</th>\n",
       "      <td>1</td>\n",
       "      <td>CO</td>\n",
       "      <td>269</td>\n",
       "      <td>SFO</td>\n",
       "      <td>IAH</td>\n",
       "      <td>3</td>\n",
       "      <td>15</td>\n",
       "      <td>205</td>\n",
       "      <td>1</td>\n",
       "      <td>1</td>\n",
       "      <td>0</td>\n",
       "    </tr>\n",
       "    <tr>\n",
       "      <th>1</th>\n",
       "      <td>2</td>\n",
       "      <td>US</td>\n",
       "      <td>1558</td>\n",
       "      <td>PHX</td>\n",
       "      <td>CLT</td>\n",
       "      <td>3</td>\n",
       "      <td>15</td>\n",
       "      <td>222</td>\n",
       "      <td>1</td>\n",
       "      <td>1</td>\n",
       "      <td>0</td>\n",
       "    </tr>\n",
       "    <tr>\n",
       "      <th>2</th>\n",
       "      <td>3</td>\n",
       "      <td>AA</td>\n",
       "      <td>2400</td>\n",
       "      <td>LAX</td>\n",
       "      <td>DFW</td>\n",
       "      <td>3</td>\n",
       "      <td>20</td>\n",
       "      <td>165</td>\n",
       "      <td>1</td>\n",
       "      <td>1</td>\n",
       "      <td>0</td>\n",
       "    </tr>\n",
       "    <tr>\n",
       "      <th>3</th>\n",
       "      <td>4</td>\n",
       "      <td>AA</td>\n",
       "      <td>2466</td>\n",
       "      <td>SFO</td>\n",
       "      <td>DFW</td>\n",
       "      <td>3</td>\n",
       "      <td>20</td>\n",
       "      <td>195</td>\n",
       "      <td>1</td>\n",
       "      <td>1</td>\n",
       "      <td>0</td>\n",
       "    </tr>\n",
       "    <tr>\n",
       "      <th>4</th>\n",
       "      <td>5</td>\n",
       "      <td>AS</td>\n",
       "      <td>108</td>\n",
       "      <td>ANC</td>\n",
       "      <td>SEA</td>\n",
       "      <td>3</td>\n",
       "      <td>30</td>\n",
       "      <td>202</td>\n",
       "      <td>0</td>\n",
       "      <td>0</td>\n",
       "      <td>1</td>\n",
       "    </tr>\n",
       "    <tr>\n",
       "      <th>...</th>\n",
       "      <td>...</td>\n",
       "      <td>...</td>\n",
       "      <td>...</td>\n",
       "      <td>...</td>\n",
       "      <td>...</td>\n",
       "      <td>...</td>\n",
       "      <td>...</td>\n",
       "      <td>...</td>\n",
       "      <td>...</td>\n",
       "      <td>...</td>\n",
       "      <td>...</td>\n",
       "    </tr>\n",
       "    <tr>\n",
       "      <th>539378</th>\n",
       "      <td>539379</td>\n",
       "      <td>CO</td>\n",
       "      <td>178</td>\n",
       "      <td>OGG</td>\n",
       "      <td>SNA</td>\n",
       "      <td>5</td>\n",
       "      <td>1439</td>\n",
       "      <td>326</td>\n",
       "      <td>0</td>\n",
       "      <td>0</td>\n",
       "      <td>1</td>\n",
       "    </tr>\n",
       "    <tr>\n",
       "      <th>539379</th>\n",
       "      <td>539380</td>\n",
       "      <td>FL</td>\n",
       "      <td>398</td>\n",
       "      <td>SEA</td>\n",
       "      <td>ATL</td>\n",
       "      <td>5</td>\n",
       "      <td>1439</td>\n",
       "      <td>305</td>\n",
       "      <td>0</td>\n",
       "      <td>0</td>\n",
       "      <td>1</td>\n",
       "    </tr>\n",
       "    <tr>\n",
       "      <th>539380</th>\n",
       "      <td>539381</td>\n",
       "      <td>FL</td>\n",
       "      <td>609</td>\n",
       "      <td>SFO</td>\n",
       "      <td>MKE</td>\n",
       "      <td>5</td>\n",
       "      <td>1439</td>\n",
       "      <td>255</td>\n",
       "      <td>0</td>\n",
       "      <td>0</td>\n",
       "      <td>1</td>\n",
       "    </tr>\n",
       "    <tr>\n",
       "      <th>539381</th>\n",
       "      <td>539382</td>\n",
       "      <td>UA</td>\n",
       "      <td>78</td>\n",
       "      <td>HNL</td>\n",
       "      <td>SFO</td>\n",
       "      <td>5</td>\n",
       "      <td>1439</td>\n",
       "      <td>313</td>\n",
       "      <td>1</td>\n",
       "      <td>1</td>\n",
       "      <td>0</td>\n",
       "    </tr>\n",
       "    <tr>\n",
       "      <th>539382</th>\n",
       "      <td>539383</td>\n",
       "      <td>US</td>\n",
       "      <td>1442</td>\n",
       "      <td>LAX</td>\n",
       "      <td>PHL</td>\n",
       "      <td>5</td>\n",
       "      <td>1439</td>\n",
       "      <td>301</td>\n",
       "      <td>1</td>\n",
       "      <td>1</td>\n",
       "      <td>0</td>\n",
       "    </tr>\n",
       "  </tbody>\n",
       "</table>\n",
       "<p>539383 rows × 11 columns</p>\n",
       "</div>"
      ],
      "text/plain": [
       "            id Airline  Flight AirportFrom AirportTo  DayOfWeek  Time  Length  \\\n",
       "0            1      CO     269         SFO       IAH          3    15     205   \n",
       "1            2      US    1558         PHX       CLT          3    15     222   \n",
       "2            3      AA    2400         LAX       DFW          3    20     165   \n",
       "3            4      AA    2466         SFO       DFW          3    20     195   \n",
       "4            5      AS     108         ANC       SEA          3    30     202   \n",
       "...        ...     ...     ...         ...       ...        ...   ...     ...   \n",
       "539378  539379      CO     178         OGG       SNA          5  1439     326   \n",
       "539379  539380      FL     398         SEA       ATL          5  1439     305   \n",
       "539380  539381      FL     609         SFO       MKE          5  1439     255   \n",
       "539381  539382      UA      78         HNL       SFO          5  1439     313   \n",
       "539382  539383      US    1442         LAX       PHL          5  1439     301   \n",
       "\n",
       "        Delay  delay2_Delayed  delay2_On Time  \n",
       "0           1               1               0  \n",
       "1           1               1               0  \n",
       "2           1               1               0  \n",
       "3           1               1               0  \n",
       "4           0               0               1  \n",
       "...       ...             ...             ...  \n",
       "539378      0               0               1  \n",
       "539379      0               0               1  \n",
       "539380      0               0               1  \n",
       "539381      1               1               0  \n",
       "539382      1               1               0  \n",
       "\n",
       "[539383 rows x 11 columns]"
      ]
     },
     "execution_count": 4,
     "metadata": {},
     "output_type": "execute_result"
    }
   ],
   "source": [
    "delays_dummy = pd.get_dummies(data, columns=['delay2'])\n",
    "delays_dummy"
   ]
  },
  {
   "cell_type": "code",
   "execution_count": 5,
   "metadata": {},
   "outputs": [
    {
     "name": "stdout",
     "output_type": "stream",
     "text": [
      "Airline  delay2 \n",
      "9E       Delayed     8226\n",
      "         On Time    12460\n",
      "AA       Delayed    17736\n",
      "         On Time    27920\n",
      "AS       Delayed     3892\n",
      "         On Time     7579\n",
      "B6       Delayed     8459\n",
      "         On Time     9653\n",
      "CO       Delayed    11957\n",
      "         On Time     9161\n",
      "DL       Delayed    27452\n",
      "         On Time    33488\n",
      "EV       Delayed    11255\n",
      "         On Time    16728\n",
      "F9       Delayed     2899\n",
      "         On Time     3557\n",
      "FL       Delayed     6275\n",
      "         On Time    14552\n",
      "HA       Delayed     1786\n",
      "         On Time     3792\n",
      "MQ       Delayed    12742\n",
      "         On Time    23863\n",
      "OH       Delayed     3502\n",
      "         On Time     9128\n",
      "OO       Delayed    22760\n",
      "         On Time    27494\n",
      "UA       Delayed     8946\n",
      "         On Time    18673\n",
      "US       Delayed    11591\n",
      "         On Time    22909\n",
      "WN       Delayed    65657\n",
      "         On Time    28440\n",
      "XE       Delayed    11795\n",
      "         On Time    19331\n",
      "YV       Delayed     3334\n",
      "         On Time    10391\n",
      "dtype: int64\n"
     ]
    },
    {
     "data": {
      "image/png": "[encoded data removed]",
      "text/plain": [
       "<Figure size 640x480 with 1 Axes>"
      ]
     },
     "metadata": {},
     "output_type": "display_data"
    }
   ],
   "source": [
    "delays_per_airline = data.groupby(['Airline', 'delay2']).size()\n",
    "print(delays_per_airline)\n",
    "\n",
    "dummy_grouped_airlines = delays_dummy.groupby(delays_dummy[\"Airline\"]).agg({'delay2_Delayed':'sum','delay2_On Time':'sum'})\n",
    "\n",
    "ax = dummy_grouped_airlines.plot.bar(rot=0)\n",
    "ax.set_ylabel(\"count\");"
   ]
  },
  {
   "cell_type": "code",
   "execution_count": 6,
   "metadata": {},
   "outputs": [
    {
     "data": {
      "text/html": [
       "<div>\n",
       "<style scoped>\n",
       "    .dataframe tbody tr th:only-of-type {\n",
       "        vertical-align: middle;\n",
       "    }\n",
       "\n",
       "    .dataframe tbody tr th {\n",
       "        vertical-align: top;\n",
       "    }\n",
       "\n",
       "    .dataframe thead th {\n",
       "        text-align: right;\n",
       "    }\n",
       "</style>\n",
       "<table border=\"1\" class=\"dataframe\">\n",
       "  <thead>\n",
       "    <tr style=\"text-align: right;\">\n",
       "      <th></th>\n",
       "      <th>delay2_Delayed</th>\n",
       "      <th>delay2_On Time</th>\n",
       "    </tr>\n",
       "    <tr>\n",
       "      <th>AirportFrom</th>\n",
       "      <th></th>\n",
       "      <th></th>\n",
       "    </tr>\n",
       "  </thead>\n",
       "  <tbody>\n",
       "    <tr>\n",
       "      <th>ABE</th>\n",
       "      <td>110.0</td>\n",
       "      <td>232.0</td>\n",
       "    </tr>\n",
       "    <tr>\n",
       "      <th>ABI</th>\n",
       "      <td>32.0</td>\n",
       "      <td>179.0</td>\n",
       "    </tr>\n",
       "    <tr>\n",
       "      <th>ABQ</th>\n",
       "      <td>1375.0</td>\n",
       "      <td>1424.0</td>\n",
       "    </tr>\n",
       "    <tr>\n",
       "      <th>ABR</th>\n",
       "      <td>1.0</td>\n",
       "      <td>1.0</td>\n",
       "    </tr>\n",
       "    <tr>\n",
       "      <th>ABY</th>\n",
       "      <td>22.0</td>\n",
       "      <td>65.0</td>\n",
       "    </tr>\n",
       "    <tr>\n",
       "      <th>...</th>\n",
       "      <td>...</td>\n",
       "      <td>...</td>\n",
       "    </tr>\n",
       "    <tr>\n",
       "      <th>VPS</th>\n",
       "      <td>210.0</td>\n",
       "      <td>423.0</td>\n",
       "    </tr>\n",
       "    <tr>\n",
       "      <th>WRG</th>\n",
       "      <td>18.0</td>\n",
       "      <td>41.0</td>\n",
       "    </tr>\n",
       "    <tr>\n",
       "      <th>XNA</th>\n",
       "      <td>317.0</td>\n",
       "      <td>811.0</td>\n",
       "    </tr>\n",
       "    <tr>\n",
       "      <th>YAK</th>\n",
       "      <td>9.0</td>\n",
       "      <td>48.0</td>\n",
       "    </tr>\n",
       "    <tr>\n",
       "      <th>YUM</th>\n",
       "      <td>94.0</td>\n",
       "      <td>244.0</td>\n",
       "    </tr>\n",
       "  </tbody>\n",
       "</table>\n",
       "<p>293 rows × 2 columns</p>\n",
       "</div>"
      ],
      "text/plain": [
       "             delay2_Delayed  delay2_On Time\n",
       "AirportFrom                                \n",
       "ABE                   110.0           232.0\n",
       "ABI                    32.0           179.0\n",
       "ABQ                  1375.0          1424.0\n",
       "ABR                     1.0             1.0\n",
       "ABY                    22.0            65.0\n",
       "...                     ...             ...\n",
       "VPS                   210.0           423.0\n",
       "WRG                    18.0            41.0\n",
       "XNA                   317.0           811.0\n",
       "YAK                     9.0            48.0\n",
       "YUM                    94.0           244.0\n",
       "\n",
       "[293 rows x 2 columns]"
      ]
     },
     "execution_count": 6,
     "metadata": {},
     "output_type": "execute_result"
    }
   ],
   "source": [
    "delays_per_airport = data.groupby(['AirportFrom', 'delay2']).size()\n",
    "delays_per_airport\n",
    "\n",
    "dummy_grouped_airports = delays_dummy.groupby(delays_dummy[\"AirportFrom\"]).agg({'delay2_Delayed':'sum','delay2_On Time':'sum'})\n",
    "dummy_grouped_airports"
   ]
  },
  {
   "cell_type": "code",
   "execution_count": 7,
   "metadata": {},
   "outputs": [
    {
     "data": {
      "text/plain": [
       "0"
      ]
     },
     "execution_count": 7,
     "metadata": {},
     "output_type": "execute_result"
    }
   ],
   "source": [
    "data.isna().sum().sum()"
   ]
  },
  {
   "cell_type": "markdown",
   "metadata": {},
   "source": [
    "## Creando datasets de entrenamiento y de prueba"
   ]
  },
  {
   "cell_type": "code",
   "execution_count": 8,
   "metadata": {},
   "outputs": [],
   "source": [
    "data = data.drop(columns=['id', 'delay2'])"
   ]
  },
  {
   "cell_type": "code",
   "execution_count": 9,
   "metadata": {},
   "outputs": [
    {
     "name": "stderr",
     "output_type": "stream",
     "text": [
      "/var/folders/dv/yyl2yv_j3hl4xyrt3r2qmh4h0000gn/T/ipykernel_2451/3439228896.py:3: SettingWithCopyWarning: \n",
      "A value is trying to be set on a copy of a slice from a DataFrame.\n",
      "Try using .loc[row_indexer,col_indexer] = value instead\n",
      "\n",
      "See the caveats in the documentation: https://pandas.pydata.org/pandas-docs/stable/user_guide/indexing.html#returning-a-view-versus-a-copy\n",
      "  x[\"Airline\"] = x[\"Airline\"].astype('category')\n",
      "/var/folders/dv/yyl2yv_j3hl4xyrt3r2qmh4h0000gn/T/ipykernel_2451/3439228896.py:4: SettingWithCopyWarning: \n",
      "A value is trying to be set on a copy of a slice from a DataFrame.\n",
      "Try using .loc[row_indexer,col_indexer] = value instead\n",
      "\n",
      "See the caveats in the documentation: https://pandas.pydata.org/pandas-docs/stable/user_guide/indexing.html#returning-a-view-versus-a-copy\n",
      "  x[\"AirportFrom\"] = x[\"AirportFrom\"].astype('category')\n",
      "/var/folders/dv/yyl2yv_j3hl4xyrt3r2qmh4h0000gn/T/ipykernel_2451/3439228896.py:5: SettingWithCopyWarning: \n",
      "A value is trying to be set on a copy of a slice from a DataFrame.\n",
      "Try using .loc[row_indexer,col_indexer] = value instead\n",
      "\n",
      "See the caveats in the documentation: https://pandas.pydata.org/pandas-docs/stable/user_guide/indexing.html#returning-a-view-versus-a-copy\n",
      "  x[\"AirportTo\"] = x[\"AirportTo\"].astype('category')\n",
      "/var/folders/dv/yyl2yv_j3hl4xyrt3r2qmh4h0000gn/T/ipykernel_2451/3439228896.py:7: SettingWithCopyWarning: \n",
      "A value is trying to be set on a copy of a slice from a DataFrame.\n",
      "Try using .loc[row_indexer,col_indexer] = value instead\n",
      "\n",
      "See the caveats in the documentation: https://pandas.pydata.org/pandas-docs/stable/user_guide/indexing.html#returning-a-view-versus-a-copy\n",
      "  x[\"Airline_cat\"] = x[\"Airline\"].cat.codes\n",
      "/var/folders/dv/yyl2yv_j3hl4xyrt3r2qmh4h0000gn/T/ipykernel_2451/3439228896.py:8: SettingWithCopyWarning: \n",
      "A value is trying to be set on a copy of a slice from a DataFrame.\n",
      "Try using .loc[row_indexer,col_indexer] = value instead\n",
      "\n",
      "See the caveats in the documentation: https://pandas.pydata.org/pandas-docs/stable/user_guide/indexing.html#returning-a-view-versus-a-copy\n",
      "  x[\"AirportFrom_cat\"] = x[\"AirportFrom\"].cat.codes\n"
     ]
    },
    {
     "data": {
      "text/html": [
       "<div>\n",
       "<style scoped>\n",
       "    .dataframe tbody tr th:only-of-type {\n",
       "        vertical-align: middle;\n",
       "    }\n",
       "\n",
       "    .dataframe tbody tr th {\n",
       "        vertical-align: top;\n",
       "    }\n",
       "\n",
       "    .dataframe thead th {\n",
       "        text-align: right;\n",
       "    }\n",
       "</style>\n",
       "<table border=\"1\" class=\"dataframe\">\n",
       "  <thead>\n",
       "    <tr style=\"text-align: right;\">\n",
       "      <th></th>\n",
       "      <th>Flight</th>\n",
       "      <th>DayOfWeek</th>\n",
       "      <th>Airline_cat</th>\n",
       "      <th>AirportFrom_cat</th>\n",
       "      <th>AirportTo_cat</th>\n",
       "    </tr>\n",
       "  </thead>\n",
       "  <tbody>\n",
       "    <tr>\n",
       "      <th>0</th>\n",
       "      <td>269</td>\n",
       "      <td>3</td>\n",
       "      <td>4</td>\n",
       "      <td>253</td>\n",
       "      <td>135</td>\n",
       "    </tr>\n",
       "    <tr>\n",
       "      <th>1</th>\n",
       "      <td>1558</td>\n",
       "      <td>3</td>\n",
       "      <td>14</td>\n",
       "      <td>217</td>\n",
       "      <td>60</td>\n",
       "    </tr>\n",
       "    <tr>\n",
       "      <th>2</th>\n",
       "      <td>2400</td>\n",
       "      <td>3</td>\n",
       "      <td>1</td>\n",
       "      <td>154</td>\n",
       "      <td>80</td>\n",
       "    </tr>\n",
       "    <tr>\n",
       "      <th>3</th>\n",
       "      <td>2466</td>\n",
       "      <td>3</td>\n",
       "      <td>1</td>\n",
       "      <td>253</td>\n",
       "      <td>80</td>\n",
       "    </tr>\n",
       "    <tr>\n",
       "      <th>4</th>\n",
       "      <td>108</td>\n",
       "      <td>3</td>\n",
       "      <td>2</td>\n",
       "      <td>14</td>\n",
       "      <td>252</td>\n",
       "    </tr>\n",
       "    <tr>\n",
       "      <th>...</th>\n",
       "      <td>...</td>\n",
       "      <td>...</td>\n",
       "      <td>...</td>\n",
       "      <td>...</td>\n",
       "      <td>...</td>\n",
       "    </tr>\n",
       "    <tr>\n",
       "      <th>539378</th>\n",
       "      <td>178</td>\n",
       "      <td>5</td>\n",
       "      <td>4</td>\n",
       "      <td>203</td>\n",
       "      <td>264</td>\n",
       "    </tr>\n",
       "    <tr>\n",
       "      <th>539379</th>\n",
       "      <td>398</td>\n",
       "      <td>5</td>\n",
       "      <td>8</td>\n",
       "      <td>252</td>\n",
       "      <td>16</td>\n",
       "    </tr>\n",
       "    <tr>\n",
       "      <th>539380</th>\n",
       "      <td>609</td>\n",
       "      <td>5</td>\n",
       "      <td>8</td>\n",
       "      <td>253</td>\n",
       "      <td>184</td>\n",
       "    </tr>\n",
       "    <tr>\n",
       "      <th>539381</th>\n",
       "      <td>78</td>\n",
       "      <td>5</td>\n",
       "      <td>13</td>\n",
       "      <td>128</td>\n",
       "      <td>253</td>\n",
       "    </tr>\n",
       "    <tr>\n",
       "      <th>539382</th>\n",
       "      <td>1442</td>\n",
       "      <td>5</td>\n",
       "      <td>14</td>\n",
       "      <td>154</td>\n",
       "      <td>216</td>\n",
       "    </tr>\n",
       "  </tbody>\n",
       "</table>\n",
       "<p>539383 rows × 5 columns</p>\n",
       "</div>"
      ],
      "text/plain": [
       "        Flight  DayOfWeek  Airline_cat  AirportFrom_cat  AirportTo_cat\n",
       "0          269          3            4              253            135\n",
       "1         1558          3           14              217             60\n",
       "2         2400          3            1              154             80\n",
       "3         2466          3            1              253             80\n",
       "4          108          3            2               14            252\n",
       "...        ...        ...          ...              ...            ...\n",
       "539378     178          5            4              203            264\n",
       "539379     398          5            8              252             16\n",
       "539380     609          5            8              253            184\n",
       "539381      78          5           13              128            253\n",
       "539382    1442          5           14              154            216\n",
       "\n",
       "[539383 rows x 5 columns]"
      ]
     },
     "execution_count": 9,
     "metadata": {},
     "output_type": "execute_result"
    }
   ],
   "source": [
    "x = data[['Airline', 'Flight', 'AirportFrom', 'AirportTo', 'DayOfWeek']] #, 'Time', 'Length']]\n",
    "\n",
    "x[\"Airline\"] = x[\"Airline\"].astype('category')\n",
    "x[\"AirportFrom\"] = x[\"AirportFrom\"].astype('category')\n",
    "x[\"AirportTo\"] = x[\"AirportTo\"].astype('category')\n",
    "\n",
    "x[\"Airline_cat\"] = x[\"Airline\"].cat.codes\n",
    "x[\"AirportFrom_cat\"] = x[\"AirportFrom\"].cat.codes\n",
    "x[\"AirportTo_cat\"] = x[\"AirportTo\"].cat.codes\n",
    "\n",
    "x = x.drop(columns=['Airline', 'AirportFrom', 'AirportTo'])\n",
    "\n",
    "x"
   ]
  },
  {
   "cell_type": "code",
   "execution_count": 10,
   "metadata": {},
   "outputs": [],
   "source": [
    "y = data['Delay']"
   ]
  },
  {
   "cell_type": "code",
   "execution_count": 11,
   "metadata": {},
   "outputs": [],
   "source": [
    "x_train,x_test,y_train,y_test=train_test_split(x,y,test_size=0.2)"
   ]
  },
  {
   "cell_type": "code",
   "execution_count": 12,
   "metadata": {},
   "outputs": [],
   "source": [
    "x_train = x_train.astype('float32')\n",
    "x_test = x_test.astype('float32')"
   ]
  },
  {
   "cell_type": "code",
   "execution_count": 13,
   "metadata": {},
   "outputs": [
    {
     "name": "stdout",
     "output_type": "stream",
     "text": [
      "Feature matrix: (431506, 5)\n",
      "Target matrix: (107877, 5)\n",
      "Feature matrix: (431506,)\n",
      "Target matrix: (107877,)\n"
     ]
    }
   ],
   "source": [
    "print(\"Feature matrix:\", x_train.shape)\n",
    "print(\"Target matrix:\", x_test.shape)\n",
    "print(\"Feature matrix:\", y_train.shape)\n",
    "print(\"Target matrix:\", y_test.shape)"
   ]
  },
  {
   "cell_type": "markdown",
   "metadata": {},
   "source": [
    "## Construyendo el modelo"
   ]
  },
  {
   "cell_type": "code",
   "execution_count": 14,
   "metadata": {},
   "outputs": [],
   "source": [
    "## Usando método Kudricky, con 4 capas, tenemos: 7 inputs, 15 para el HL1, 5 para el HL2 y 1 output\n",
    "\n",
    "num_classes = 1\n",
    "num_features = x_train.shape[1]\n",
    "\n",
    "num_output = 1\n",
    "num_layers_0 = 15\n",
    "num_layers_1 = 5\n",
    "\n",
    "epochs = 21\n",
    "learning_rate = 0.01\n",
    "batch_size = 1000"
   ]
  },
  {
   "cell_type": "code",
   "execution_count": 15,
   "metadata": {},
   "outputs": [
    {
     "name": "stderr",
     "output_type": "stream",
     "text": [
      "2022-09-17 15:22:49.061225: I tensorflow/core/common_runtime/pluggable_device/pluggable_device_factory.cc:306] Could not identify NUMA node of platform GPU ID 0, defaulting to 0. Your kernel may not have been built with NUMA support.\n",
      "2022-09-17 15:22:49.061387: I tensorflow/core/common_runtime/pluggable_device/pluggable_device_factory.cc:272] Created TensorFlow device (/job:localhost/replica:0/task:0/device:GPU:0 with 0 MB memory) -> physical PluggableDevice (device: 0, name: METAL, pci bus id: <undefined>)\n"
     ]
    },
    {
     "name": "stdout",
     "output_type": "stream",
     "text": [
      "Metal device set to: Apple M1 Pro\n",
      "\n",
      "systemMemory: 16.00 GB\n",
      "maxCacheSize: 5.33 GB\n",
      "\n"
     ]
    }
   ],
   "source": [
    "## Armando las distintas capas\n",
    "\n",
    "inputs = keras.Input(shape = (num_features,), name = \"delays\")\n",
    "x1 = layers.Dense(num_layers_0, activation = \"sigmoid\", name = \"dense_1\")(inputs)\n",
    "x2 = layers.Dense(num_layers_1, activation = \"sigmoid\", name = \"dense_2\")(x1)\n",
    "outputs = layers.Dense(1, activation = \"sigmoid\", name = \"predictions\")(x2)\n",
    "\n",
    "model = keras.Model(inputs = inputs, outputs = outputs)"
   ]
  },
  {
   "cell_type": "code",
   "execution_count": 16,
   "metadata": {},
   "outputs": [],
   "source": [
    "## Compilando el modelo\n",
    "\n",
    "model.compile(\n",
    "    optimizer = keras.optimizers.RMSprop(learning_rate = learning_rate),\n",
    "    loss = keras.losses.MeanSquaredError(),\n",
    "    metrics = [keras.metrics.SparseCategoricalAccuracy(), keras.metrics.Precision(), keras.metrics.Recall()],\n",
    ")"
   ]
  },
  {
   "cell_type": "code",
   "execution_count": 17,
   "metadata": {},
   "outputs": [
    {
     "name": "stdout",
     "output_type": "stream",
     "text": [
      "Epoch 1/21\n"
     ]
    },
    {
     "name": "stderr",
     "output_type": "stream",
     "text": [
      "2022-09-17 15:22:49.213186: W tensorflow/core/platform/profile_utils/cpu_utils.cc:128] Failed to get CPU frequency: 0 Hz\n",
      "2022-09-17 15:22:49.417004: I tensorflow/core/grappler/optimizers/custom_graph_optimizer_registry.cc:114] Plugin optimizer for device_type GPU is enabled.\n"
     ]
    },
    {
     "name": "stdout",
     "output_type": "stream",
     "text": [
      "432/432 [==============================] - 4s 9ms/step - loss: 0.2468 - sparse_categorical_accuracy: 0.5545 - precision: 0.4974 - recall: 0.0215\n",
      "Epoch 2/21\n",
      "432/432 [==============================] - 4s 9ms/step - loss: 0.2464 - sparse_categorical_accuracy: 0.5545 - precision: 0.4861 - recall: 0.0276\n",
      "Epoch 3/21\n",
      "432/432 [==============================] - 4s 8ms/step - loss: 0.2463 - sparse_categorical_accuracy: 0.5545 - precision: 0.5041 - recall: 0.0811\n",
      "Epoch 4/21\n",
      "432/432 [==============================] - 4s 8ms/step - loss: 0.2459 - sparse_categorical_accuracy: 0.5545 - precision: 0.5170 - recall: 0.0948\n",
      "Epoch 5/21\n",
      "432/432 [==============================] - 4s 8ms/step - loss: 0.2457 - sparse_categorical_accuracy: 0.5545 - precision: 0.5197 - recall: 0.1192\n",
      "Epoch 6/21\n",
      "432/432 [==============================] - 4s 8ms/step - loss: 0.2462 - sparse_categorical_accuracy: 0.5545 - precision: 0.5292 - recall: 0.0767\n",
      "Epoch 7/21\n",
      "432/432 [==============================] - 4s 8ms/step - loss: 0.2457 - sparse_categorical_accuracy: 0.5545 - precision: 0.5257 - recall: 0.0990\n",
      "Epoch 8/21\n",
      "432/432 [==============================] - 4s 8ms/step - loss: 0.2459 - sparse_categorical_accuracy: 0.5545 - precision: 0.5189 - recall: 0.1067\n",
      "Epoch 9/21\n",
      "432/432 [==============================] - 4s 8ms/step - loss: 0.2458 - sparse_categorical_accuracy: 0.5545 - precision: 0.5208 - recall: 0.1361\n",
      "Epoch 10/21\n",
      "432/432 [==============================] - 4s 8ms/step - loss: 0.2461 - sparse_categorical_accuracy: 0.5545 - precision: 0.5224 - recall: 0.0819\n",
      "Epoch 11/21\n",
      "432/432 [==============================] - 4s 8ms/step - loss: 0.2457 - sparse_categorical_accuracy: 0.5545 - precision: 0.5220 - recall: 0.1019\n",
      "Epoch 12/21\n",
      "432/432 [==============================] - 4s 8ms/step - loss: 0.2457 - sparse_categorical_accuracy: 0.5545 - precision: 0.5276 - recall: 0.1193\n",
      "Epoch 13/21\n",
      "432/432 [==============================] - 4s 8ms/step - loss: 0.2456 - sparse_categorical_accuracy: 0.5545 - precision: 0.5255 - recall: 0.1357\n",
      "Epoch 14/21\n",
      "432/432 [==============================] - 4s 8ms/step - loss: 0.2456 - sparse_categorical_accuracy: 0.5545 - precision: 0.5290 - recall: 0.1304\n",
      "Epoch 15/21\n",
      "432/432 [==============================] - 4s 8ms/step - loss: 0.2456 - sparse_categorical_accuracy: 0.5545 - precision: 0.5282 - recall: 0.1104\n",
      "Epoch 16/21\n",
      "432/432 [==============================] - 4s 8ms/step - loss: 0.2459 - sparse_categorical_accuracy: 0.5545 - precision: 0.5243 - recall: 0.1088\n",
      "Epoch 17/21\n",
      "432/432 [==============================] - 4s 8ms/step - loss: 0.2455 - sparse_categorical_accuracy: 0.5545 - precision: 0.5209 - recall: 0.1259\n",
      "Epoch 18/21\n",
      "432/432 [==============================] - 4s 8ms/step - loss: 0.2454 - sparse_categorical_accuracy: 0.5545 - precision: 0.5303 - recall: 0.1148\n",
      "Epoch 19/21\n",
      "432/432 [==============================] - 4s 8ms/step - loss: 0.2455 - sparse_categorical_accuracy: 0.5545 - precision: 0.5391 - recall: 0.1141\n",
      "Epoch 20/21\n",
      "432/432 [==============================] - 4s 8ms/step - loss: 0.2454 - sparse_categorical_accuracy: 0.5545 - precision: 0.5378 - recall: 0.1272\n",
      "Epoch 21/21\n",
      "432/432 [==============================] - 4s 8ms/step - loss: 0.2452 - sparse_categorical_accuracy: 0.5545 - precision: 0.5323 - recall: 0.1722\n"
     ]
    }
   ],
   "source": [
    "## Entrenando el modelo\n",
    "\n",
    "training = model.fit(\n",
    "    x_train,\n",
    "    y_train,\n",
    "    batch_size = batch_size,\n",
    "    epochs = epochs,\n",
    ")"
   ]
  },
  {
   "cell_type": "code",
   "execution_count": 18,
   "metadata": {},
   "outputs": [
    {
     "data": {
      "image/png": "[encoded data removed]",
      "text/plain": [
       "<Figure size 640x480 with 1 Axes>"
      ]
     },
     "metadata": {},
     "output_type": "display_data"
    }
   ],
   "source": [
    "training.history['sparse_categorical_accuracy']\n",
    "training.epoch\n",
    "\n",
    "plt.plot(training.epoch, training.history['sparse_categorical_accuracy'])\n",
    "plt.title('Accuracy v/ epochs')\n",
    "plt.ylabel('Accuracy Score')\n",
    "plt.xlabel('Epochs')\n",
    "plt.show()"
   ]
  },
  {
   "cell_type": "code",
   "execution_count": 19,
   "metadata": {},
   "outputs": [
    {
     "data": {
      "image/png": "[encoded data removed]",
      "text/plain": [
       "<Figure size 640x480 with 1 Axes>"
      ]
     },
     "metadata": {},
     "output_type": "display_data"
    }
   ],
   "source": [
    "training.history['precision']\n",
    "plt.plot(training.epoch, training.history['precision'])\n",
    "plt.title('Precision v/ epochs')\n",
    "plt.ylabel('Precision Score')\n",
    "plt.xlabel('Epochs')\n",
    "plt.show()"
   ]
  },
  {
   "cell_type": "code",
   "execution_count": 20,
   "metadata": {},
   "outputs": [
    {
     "data": {
      "image/png": "[encoded data removed]",
      "text/plain": [
       "<Figure size 640x480 with 1 Axes>"
      ]
     },
     "metadata": {},
     "output_type": "display_data"
    }
   ],
   "source": [
    "training.history['recall']\n",
    "plt.plot(training.epoch, training.history['recall'])\n",
    "plt.title('Recall v/ epochs')\n",
    "plt.ylabel('Recall Score')\n",
    "plt.xlabel('Epochs')\n",
    "plt.show()"
   ]
  },
  {
   "cell_type": "code",
   "execution_count": 21,
   "metadata": {},
   "outputs": [
    {
     "data": {
      "image/png": "[encoded data removed]",
      "text/plain": [
       "<Figure size 640x480 with 1 Axes>"
      ]
     },
     "metadata": {},
     "output_type": "display_data"
    }
   ],
   "source": [
    "training.history['loss']\n",
    "plt.plot(training.epoch, training.history['loss'])\n",
    "plt.title('Loss v/ epochs')\n",
    "plt.ylabel('Loss')\n",
    "plt.xlabel('Epochs')\n",
    "plt.show()"
   ]
  },
  {
   "cell_type": "code",
   "execution_count": 22,
   "metadata": {},
   "outputs": [
    {
     "name": "stdout",
     "output_type": "stream",
     "text": [
      "  18/1079 [..............................] - ETA: 6s - loss: 0.2455 - sparse_categorical_accuracy: 0.5600 - precision: 0.4919 - recall: 0.1919"
     ]
    },
    {
     "name": "stderr",
     "output_type": "stream",
     "text": [
      "2022-09-17 15:24:06.284856: I tensorflow/core/grappler/optimizers/custom_graph_optimizer_registry.cc:114] Plugin optimizer for device_type GPU is enabled.\n"
     ]
    },
    {
     "name": "stdout",
     "output_type": "stream",
     "text": [
      "1079/1079 [==============================] - 7s 6ms/step - loss: 0.2451 - sparse_categorical_accuracy: 0.5548 - precision: 0.5316 - recall: 0.2022\n",
      "test loss, test acc, test prec, test recall: [0.24514155089855194, 0.5548263192176819, 0.5315887331962585, 0.2021905779838562]\n"
     ]
    }
   ],
   "source": [
    "## Evaluando el modelo\n",
    "\n",
    "results = model.evaluate(x_test, y_test, batch_size = 100)\n",
    "print(\"test loss, test acc, test prec, test recall:\", results)"
   ]
  },
  {
   "cell_type": "code",
   "execution_count": 23,
   "metadata": {},
   "outputs": [
    {
     "name": "stdout",
     "output_type": "stream",
     "text": [
      "  61/3372 [..............................] - ETA: 8s"
     ]
    },
    {
     "name": "stderr",
     "output_type": "stream",
     "text": [
      "2022-09-17 15:24:13.185114: I tensorflow/core/grappler/optimizers/custom_graph_optimizer_registry.cc:114] Plugin optimizer for device_type GPU is enabled.\n"
     ]
    },
    {
     "name": "stdout",
     "output_type": "stream",
     "text": [
      "3372/3372 [==============================] - 6s 2ms/step\n"
     ]
    },
    {
     "data": {
      "text/plain": [
       "array([[0.42499337],\n",
       "       [0.38544914],\n",
       "       [0.45947096],\n",
       "       ...,\n",
       "       [0.45928863],\n",
       "       [0.4249933 ],\n",
       "       [0.4249933 ]], dtype=float32)"
      ]
     },
     "execution_count": 23,
     "metadata": {},
     "output_type": "execute_result"
    }
   ],
   "source": [
    "## Generando predicciones\n",
    "\n",
    "predictions = model.predict(x_test)\n",
    "predictions"
   ]
  }
 ],
 "metadata": {
  "kernelspec": {
   "display_name": "Python 3.10.6 ('base')",
   "language": "python",
   "name": "python3"
  },
  "language_info": {
   "codemirror_mode": {
    "name": "ipython",
    "version": 3
   },
   "file_extension": ".py",
   "mimetype": "text/x-python",
   "name": "python",
   "nbconvert_exporter": "python",
   "pygments_lexer": "ipython3",
   "version": "3.10.6"
  },
  "orig_nbformat": 4,
  "vscode": {
   "interpreter": {
    "hash": "a0798971ce6bda155e7f34977f6b2d8bf007780a7e1151b678ede57afe31e6c6"
   }
  }
 },
 "nbformat": 4,
 "nbformat_minor": 2
}
